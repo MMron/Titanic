{
 "cells": [
  {
   "cell_type": "code",
   "execution_count": 1,
   "metadata": {},
   "outputs": [],
   "source": [
    "import pandas as pd \n",
    "import numpy as np\n",
    "\n",
    "# explicitly require this experimental feature\n",
    "from sklearn.experimental import enable_iterative_imputer  # noqa\n",
    "# now you can import normally from sklearn.impute\n",
    "from sklearn.impute import IterativeImputer, SimpleImputer\n",
    "\n",
    "from sklearn.ensemble import RandomForestClassifier\n",
    "from sklearn.model_selection import StratifiedKFold, KFold\n",
    "from sklearn.preprocessing import OneHotEncoder\n",
    "from sklearn.compose import ColumnTransformer\n",
    "from sklearn.preprocessing import StandardScaler\n",
    "from sklearn.model_selection import cross_val_score\n",
    "from sklearn.linear_model import LogisticRegression\n",
    "from sklearn.decomposition import PCA\n",
    "from sklearn.preprocessing import PolynomialFeatures\n",
    "from sklearn.ensemble import VotingClassifier\n",
    "from sklearn.model_selection import cross_val_score\n",
    "from sklearn.svm import SVC\n",
    "from sklearn.neighbors import KNeighborsClassifier\n",
    "from sklearn import svm, datasets\n",
    "from sklearn.model_selection import GridSearchCV\n",
    "from sklearn.pipeline import Pipeline\n",
    "\n",
    "from mlxtend.feature_selection import SequentialFeatureSelector as SFS\n",
    "import os"
   ]
  },
  {
   "cell_type": "code",
   "execution_count": 2,
   "metadata": {},
   "outputs": [],
   "source": []
  },
  {
   "cell_type": "code",
   "execution_count": 4,
   "metadata": {},
   "outputs": [],
   "source": [
    "rfr_pred = pd.read_csv('rf_sfs_sub.csv')\n",
    "svc_pred = pd.read_csv('fist_svc.csv')"
   ]
  },
  {
   "cell_type": "code",
   "execution_count": 5,
   "metadata": {},
   "outputs": [
    {
     "data": {
      "text/plain": [
       "PassengerId     0\n",
       "Survived       37\n",
       "dtype: int64"
      ]
     },
     "execution_count": 5,
     "metadata": {},
     "output_type": "execute_result"
    }
   ],
   "source": [
    "(rfr_pred != svc_pred).sum()"
   ]
  },
  {
   "cell_type": "code",
   "execution_count": 13,
   "metadata": {},
   "outputs": [],
   "source": [
    "rs=1"
   ]
  },
  {
   "cell_type": "code",
   "execution_count": 29,
   "metadata": {},
   "outputs": [],
   "source": []
  },
  {
   "cell_type": "code",
   "execution_count": null,
   "metadata": {},
   "outputs": [],
   "source": [
    "def get_gs_info(model):\n",
    "    \"\"\"\n",
    "    \n",
    "    \"\"\"\n",
    "    print('Best model score: ' + str(model.best_score_))\n",
    "    print('Best model params: '+ str(model.best_params_))"
   ]
  },
  {
   "cell_type": "code",
   "execution_count": 6,
   "metadata": {},
   "outputs": [],
   "source": [
    "def onehot_name(df):\n",
    "    mrs = '|'.join(['Mrs\\.','Mme\\.', 'Ms\\.', 'Dr\\.', 'Lady\\.', 'Countess\\.'])    \n",
    "    mr = '|'.join(['Mr\\.','Don\\.','Rev\\.','Dr\\.', 'Major\\.', 'Sir\\.', 'Col\\.', 'Capt\\.', 'Jonkheer\\.'])\n",
    "    miss = '|'.join(['Miss\\.', 'Mlle\\.'])\n",
    "    return df.assign(Name = lambda x : x['name'].str.replace('\\(.*\\)', '', regex=True),\n",
    "                     Mr =  lambda x : x['name'].str.contains(mr).astype(int) ,\n",
    "                     Miss = lambda x : x['name'].str.contains(miss).astype(int),\n",
    "                     Mrs = lambda x : x['name'].str.contains(mrs).astype(int),\n",
    "                     Master = lambda x : (x['name'].str.find('Master.') > -1).astype(int))"
   ]
  },
  {
   "cell_type": "code",
   "execution_count": 7,
   "metadata": {},
   "outputs": [],
   "source": [
    "def feature_egneenering(df):\n",
    "    \"\"\"\n",
    "    \n",
    "    \"\"\"\n",
    "    df = (df.assign(family_size = df.sibsp + df.parch+1,\n",
    "                    is_alone = lambda x: x.family_size < 2,\n",
    "                    calc_fare = lambda x: x.fare/x.family_size)\n",
    "            .astype({'is_alone':int})\n",
    "           )\n",
    "    return df\n"
   ]
  },
  {
   "cell_type": "code",
   "execution_count": 8,
   "metadata": {},
   "outputs": [],
   "source": [
    "def read_data(file):\n",
    "    \"\"\"\n",
    "    \n",
    "    \"\"\"\n",
    "    df = (pd.read_csv(file, dtype = {\n",
    "                            \"PassengerId\":np.int32,\n",
    "                            \"Name\": \"object\",\n",
    "                            \"Pclass\":np.int,\n",
    "                            \"Survived\":np.int32,\n",
    "                            \"Sex\":\"object\",\n",
    "                            \"Age\":np.float,\n",
    "                            \"SibSp\":np.int,\n",
    "                            \"Embarked\":\"object\",\n",
    "                            \"Cabin\":\"object\",\n",
    "                            \"Fare\":np.float64,\n",
    "                        },)\n",
    "            .rename(columns=str.lower)\n",
    "            .set_index(\"passengerid\")\n",
    "            .pipe(onehot_name)\n",
    "            .pipe(feature_egneenering)\n",
    "            .rename(columns=str.lower)\n",
    "            .drop(['cabin','name','ticket'],axis=1)\n",
    "        )\n",
    "    return df\n",
    "    "
   ]
  },
  {
   "cell_type": "code",
   "execution_count": 9,
   "metadata": {},
   "outputs": [],
   "source": [
    "filename = \"../data/train.csv\"\n",
    "data = read_data(filename)\n",
    "X_train = data.drop(['survived'],axis=1) \n",
    "y_train = data.survived"
   ]
  },
  {
   "cell_type": "code",
   "execution_count": 10,
   "metadata": {},
   "outputs": [],
   "source": [
    "# We create the preprocessing pipelines for both numeric and categorical data.\n",
    "numeric_features = X_train.select_dtypes(exclude = 'O').columns.values #['age','fare','mr', 'miss', 'mrs', 'master']\n",
    "numeric_transformer = Pipeline(steps=[\n",
    "    ('imputer', IterativeImputer(random_state=0,initial_strategy='median')),\n",
    "    ('scaler', StandardScaler())])\n",
    "\n",
    "categorical_features = X_train.select_dtypes(include = 'O').columns.values#['Embarked', 'Sex', 'Pclass']\n",
    "categorical_transformer = Pipeline(steps=[\n",
    "    ('imputer', SimpleImputer(strategy='most_frequent',missing_values=np.nan)),\n",
    "    ('onehot', OneHotEncoder(handle_unknown='error', drop=\"first\"))\n",
    "    ])\n",
    "\n",
    "preprocessor = ColumnTransformer(\n",
    "    transformers=[\n",
    "        ('cat', categorical_transformer, categorical_features),\n",
    "        ('num', numeric_transformer, numeric_features)\n",
    "        ])"
   ]
  },
  {
   "cell_type": "code",
   "execution_count": 11,
   "metadata": {},
   "outputs": [],
   "source": [
    "def make_params(string0,string1,string2,string3=None):\n",
    "    params = []\n",
    "    if string3:\n",
    "        for el2 in string3[1]:\n",
    "            for el in string2[1]:\n",
    "                params.append({string1[0]:string1[1],\n",
    "                              string0[0]+'__'+string2[0]:[el],\n",
    "                              string0[1]+'__estimator__'+string2[0]:[el],\n",
    "                              string0[0]+'__'+string3[0]:[el2],\n",
    "                              string0[1]+'__estimator__'+string3[0]:[el2]})\n",
    "    else:\n",
    "        for el in string2[1]:\n",
    "            params.append({string1[0]:string1[1],\n",
    "                         string0[0]+'__'+string2[0]:[el],\n",
    "                         string0[1]+'__estimator__'+string2[0]:[el]})\n",
    "    return params"
   ]
  },
  {
   "cell_type": "code",
   "execution_count": 14,
   "metadata": {},
   "outputs": [],
   "source": [
    "no_feat = X_train.shape[1]\n",
    "\n",
    "#cross validation for inner and outer loopn in nested cv\n",
    "cv_outer = StratifiedKFold(shuffle=True, random_state = rs)\n",
    "cv_inner = StratifiedKFold(shuffle=True, random_state = rs)\n",
    "cv_sfs = StratifiedKFold(shuffle=True, random_state = rs)"
   ]
  },
  {
   "cell_type": "code",
   "execution_count": 17,
   "metadata": {},
   "outputs": [],
   "source": [
    "## RFR\n",
    "est = RandomForestClassifier(n_estimators=10,random_state=rs)\n",
    "sfs1 = SFS(estimator=est, \n",
    "           k_features=3,\n",
    "           forward=True, \n",
    "           floating=False, \n",
    "           scoring='neg_mean_absolute_error',\n",
    "           cv=cv_sfs)\n",
    "\n",
    "pipe_rfr_sfs = Pipeline([('pre_pros',  preprocessor),\n",
    "                 ('sfs', sfs1),\n",
    "                 ('rfc',est)])\n",
    "\n",
    "string1 = ['sfs__k_features', [(2,no_feat)]]\n",
    "string2 = ['n_estimators',[1,5,10,50,100,250,500,1000]]\n",
    "string3 = ['max_depth',[2,5,10,20,50,75,150]]\n",
    "param_grid_rfr_sfs = make_params(['rfc','sfs'],string1,string2,string3)\n",
    "\n",
    "gs_rf_sfs = GridSearchCV(estimator = pipe_rfr_sfs,\n",
    "                  param_grid = param_grid_rfr_sfs,\n",
    "                  cv = cv_inner,\n",
    "                  scoring = \"accuracy\",\n",
    "                  n_jobs=-1,\n",
    "                  verbose=2)"
   ]
  },
  {
   "cell_type": "code",
   "execution_count": 40,
   "metadata": {},
   "outputs": [],
   "source": [
    "## SVC\n",
    "est = SVC(probability=True)\n",
    "sfs2 = SFS(estimator=est, \n",
    "           k_features=3,\n",
    "           forward=True, \n",
    "           floating=False, \n",
    "           scoring='neg_mean_absolute_error',\n",
    "           cv=cv_sfs)\n",
    "\n",
    "pipe_svc_sfs = Pipeline([('pre_pros',  preprocessor),\n",
    "                 ('sfs', sfs2),\n",
    "                 ('svc',est)])\n",
    "\n",
    "string1 = ['sfs__k_features', [(2,no_feat)]]\n",
    "string2 = ['C', [0.0001,0.001,0.01,0.1,1,10,100,100]]\n",
    "string3 = ['gamma',[0.0001,0.001,0.01,0.1,1,10,100,100]]\n",
    "param_grid_svc_sfs = make_params(['svc','sfs'],string1,string2,string3)\n",
    "\n",
    "gs_svc_sfs = GridSearchCV(estimator = pipe_svc_sfs,\n",
    "                  param_grid = param_grid_svc_sfs,\n",
    "                  cv = cv_inner,\n",
    "                  scoring = \"accuracy\",\n",
    "                  n_jobs=-1,\n",
    "                  verbose=2)"
   ]
  },
  {
   "cell_type": "code",
   "execution_count": 19,
   "metadata": {},
   "outputs": [
    {
     "name": "stdout",
     "output_type": "stream",
     "text": [
      "Fitting 5 folds for each of 56 candidates, totalling 280 fits\n"
     ]
    },
    {
     "name": "stderr",
     "output_type": "stream",
     "text": [
      "[Parallel(n_jobs=-1)]: Using backend LokyBackend with 4 concurrent workers.\n",
      "[Parallel(n_jobs=-1)]: Done  33 tasks      | elapsed:  2.7min\n",
      "[Parallel(n_jobs=-1)]: Done 154 tasks      | elapsed: 11.7min\n",
      "[Parallel(n_jobs=-1)]: Done 280 out of 280 | elapsed: 21.3min finished\n"
     ]
    },
    {
     "name": "stdout",
     "output_type": "stream",
     "text": [
      "CPU times: user 3.7 s, sys: 210 ms, total: 3.91 s\n",
      "Wall time: 21min 17s\n"
     ]
    },
    {
     "data": {
      "text/plain": [
       "GridSearchCV(cv=StratifiedKFold(n_splits=5, random_state=1, shuffle=True),\n",
       "             error_score=nan,\n",
       "             estimator=Pipeline(memory=None,\n",
       "                                steps=[('pre_pros',\n",
       "                                        ColumnTransformer(n_jobs=None,\n",
       "                                                          remainder='drop',\n",
       "                                                          sparse_threshold=0.3,\n",
       "                                                          transformer_weights=None,\n",
       "                                                          transformers=[('cat',\n",
       "                                                                         Pipeline(memory=None,\n",
       "                                                                                  steps=[('imputer',\n",
       "                                                                                          SimpleImputer(add_indicator=False,\n",
       "                                                                                                        copy=True,\n",
       "                                                                                                        fill_value=None...\n",
       "                         {'rfc__max_depth': [20], 'rfc__n_estimators': [100],\n",
       "                          'sfs__estimator__max_depth': [20],\n",
       "                          'sfs__estimator__n_estimators': [100],\n",
       "                          'sfs__k_features': [(2, 14)]},\n",
       "                         {'rfc__max_depth': [20], 'rfc__n_estimators': [250],\n",
       "                          'sfs__estimator__max_depth': [20],\n",
       "                          'sfs__estimator__n_estimators': [250],\n",
       "                          'sfs__k_features': [(2, 14)]}, ...],\n",
       "             pre_dispatch='2*n_jobs', refit=True, return_train_score=False,\n",
       "             scoring='accuracy', verbose=2)"
      ]
     },
     "execution_count": 19,
     "metadata": {},
     "output_type": "execute_result"
    }
   ],
   "source": [
    "%%time\n",
    "gs_rf_sfs.fit(X_train,y_train)"
   ]
  },
  {
   "cell_type": "code",
   "execution_count": 41,
   "metadata": {},
   "outputs": [
    {
     "name": "stdout",
     "output_type": "stream",
     "text": [
      "Fitting 5 folds for each of 64 candidates, totalling 320 fits\n"
     ]
    },
    {
     "name": "stderr",
     "output_type": "stream",
     "text": [
      "[Parallel(n_jobs=-1)]: Using backend LokyBackend with 4 concurrent workers.\n",
      "[Parallel(n_jobs=-1)]: Done  33 tasks      | elapsed:  4.6min\n",
      "[Parallel(n_jobs=-1)]: Done 154 tasks      | elapsed: 20.0min\n",
      "[Parallel(n_jobs=-1)]: Done 320 out of 320 | elapsed: 44.2min finished\n"
     ]
    },
    {
     "name": "stdout",
     "output_type": "stream",
     "text": [
      "CPU times: user 34.4 s, sys: 374 ms, total: 34.8 s\n",
      "Wall time: 44min 45s\n"
     ]
    },
    {
     "data": {
      "text/plain": [
       "GridSearchCV(cv=StratifiedKFold(n_splits=5, random_state=1, shuffle=True),\n",
       "             error_score=nan,\n",
       "             estimator=Pipeline(memory=None,\n",
       "                                steps=[('pre_pros',\n",
       "                                        ColumnTransformer(n_jobs=None,\n",
       "                                                          remainder='drop',\n",
       "                                                          sparse_threshold=0.3,\n",
       "                                                          transformer_weights=None,\n",
       "                                                          transformers=[('cat',\n",
       "                                                                         Pipeline(memory=None,\n",
       "                                                                                  steps=[('imputer',\n",
       "                                                                                          SimpleImputer(add_indicator=False,\n",
       "                                                                                                        copy=True,\n",
       "                                                                                                        fill_value=None...\n",
       "                          'sfs__k_features': [(2, 14)], 'svc__C': [0.1],\n",
       "                          'svc__gamma': [0.1]},\n",
       "                         {'sfs__estimator__C': [1],\n",
       "                          'sfs__estimator__gamma': [0.1],\n",
       "                          'sfs__k_features': [(2, 14)], 'svc__C': [1],\n",
       "                          'svc__gamma': [0.1]},\n",
       "                         {'sfs__estimator__C': [10],\n",
       "                          'sfs__estimator__gamma': [0.1],\n",
       "                          'sfs__k_features': [(2, 14)], 'svc__C': [10],\n",
       "                          'svc__gamma': [0.1]}, ...],\n",
       "             pre_dispatch='2*n_jobs', refit=True, return_train_score=False,\n",
       "             scoring='accuracy', verbose=2)"
      ]
     },
     "execution_count": 41,
     "metadata": {},
     "output_type": "execute_result"
    }
   ],
   "source": [
    "%%time\n",
    "gs_svc_sfs.fit(X_train,y_train)"
   ]
  },
  {
   "cell_type": "code",
   "execution_count": 27,
   "metadata": {},
   "outputs": [],
   "source": [
    "## KNN\n",
    "est = KNeighborsClassifier(weights = 'distance')\n",
    "sfs3 = SFS(estimator=est, \n",
    "           k_features=3,\n",
    "           forward=True, \n",
    "           floating=False, \n",
    "           scoring='neg_mean_absolute_error',\n",
    "           cv=cv_sfs)\n",
    "\n",
    "pipe_knn_sfs = Pipeline([('pre_pros',  preprocessor),\n",
    "                 ('sfs', sfs3),\n",
    "                 ('knn',est)])\n",
    "\n",
    "string1 = ['sfs__k_features', [(2,no_feat)]]\n",
    "string2 = ['n_neighbors', [1,2,3,5,10,20,30]]\n",
    "string3 = ['p',[1,2,3]]\n",
    "param_grid_knn_sfs = make_params(['knn','sfs'],string1,string2,string3)\n",
    "\n",
    "gs_knn_sfs = GridSearchCV(estimator = pipe_knn_sfs,\n",
    "                  param_grid = param_grid_knn_sfs,\n",
    "                  cv = cv_inner,\n",
    "                  scoring = \"accuracy\",\n",
    "                  n_jobs=-1,\n",
    "                  verbose=2)"
   ]
  },
  {
   "cell_type": "code",
   "execution_count": 28,
   "metadata": {},
   "outputs": [
    {
     "name": "stdout",
     "output_type": "stream",
     "text": [
      "Fitting 5 folds for each of 21 candidates, totalling 105 fits\n"
     ]
    },
    {
     "name": "stderr",
     "output_type": "stream",
     "text": [
      "[Parallel(n_jobs=-1)]: Using backend LokyBackend with 4 concurrent workers.\n",
      "[Parallel(n_jobs=-1)]: Done  33 tasks      | elapsed:   35.4s\n",
      "[Parallel(n_jobs=-1)]: Done 105 out of 105 | elapsed:  1.6min finished\n"
     ]
    },
    {
     "name": "stdout",
     "output_type": "stream",
     "text": [
      "CPU times: user 2.84 s, sys: 96 ms, total: 2.94 s\n",
      "Wall time: 1min 37s\n"
     ]
    },
    {
     "data": {
      "text/plain": [
       "GridSearchCV(cv=StratifiedKFold(n_splits=5, random_state=1, shuffle=True),\n",
       "             error_score=nan,\n",
       "             estimator=Pipeline(memory=None,\n",
       "                                steps=[('pre_pros',\n",
       "                                        ColumnTransformer(n_jobs=None,\n",
       "                                                          remainder='drop',\n",
       "                                                          sparse_threshold=0.3,\n",
       "                                                          transformer_weights=None,\n",
       "                                                          transformers=[('cat',\n",
       "                                                                         Pipeline(memory=None,\n",
       "                                                                                  steps=[('imputer',\n",
       "                                                                                          SimpleImputer(add_indicator=False,\n",
       "                                                                                                        copy=True,\n",
       "                                                                                                        fill_value=None...\n",
       "                          'sfs__k_features': [(2, 14)]},\n",
       "                         {'knn__n_neighbors': [20], 'knn__p': [3],\n",
       "                          'sfs__estimator__n_neighbors': [20],\n",
       "                          'sfs__estimator__p': [3],\n",
       "                          'sfs__k_features': [(2, 14)]},\n",
       "                         {'knn__n_neighbors': [30], 'knn__p': [3],\n",
       "                          'sfs__estimator__n_neighbors': [30],\n",
       "                          'sfs__estimator__p': [3],\n",
       "                          'sfs__k_features': [(2, 14)]}],\n",
       "             pre_dispatch='2*n_jobs', refit=True, return_train_score=False,\n",
       "             scoring='accuracy', verbose=2)"
      ]
     },
     "execution_count": 28,
     "metadata": {},
     "output_type": "execute_result"
    }
   ],
   "source": [
    "%%time\n",
    "gs_knn_sfs.fit(X_train,y_train)"
   ]
  },
  {
   "cell_type": "code",
   "execution_count": 30,
   "metadata": {},
   "outputs": [
    {
     "name": "stdout",
     "output_type": "stream",
     "text": [
      "Best model score: 0.8339087314041805\n",
      "Best model params: {'knn__n_neighbors': 20, 'knn__p': 1, 'sfs__estimator__n_neighbors': 20, 'sfs__estimator__p': 1, 'sfs__k_features': (2, 14)}\n"
     ]
    }
   ],
   "source": [
    "get_gs_info(gs_knn_sfs)"
   ]
  },
  {
   "cell_type": "code",
   "execution_count": 42,
   "metadata": {},
   "outputs": [
    {
     "name": "stdout",
     "output_type": "stream",
     "text": [
      "Best model score: 0.8271483271608814\n",
      "Best model params: {'sfs__estimator__C': 10, 'sfs__estimator__gamma': 0.01, 'sfs__k_features': (2, 14), 'svc__C': 10, 'svc__gamma': 0.01}\n"
     ]
    }
   ],
   "source": [
    "get_gs_info(gs_svc_sfs) # with prob"
   ]
  },
  {
   "cell_type": "code",
   "execution_count": 25,
   "metadata": {},
   "outputs": [
    {
     "name": "stdout",
     "output_type": "stream",
     "text": [
      "Best model score: 0.8271483271608814\n",
      "Best model params: {'sfs__estimator__C': 10, 'sfs__estimator__gamma': 0.01, 'sfs__k_features': (2, 14), 'svc__C': 10, 'svc__gamma': 0.01}\n"
     ]
    }
   ],
   "source": [
    "get_gs_info(gs_svc_sfs) # without prob"
   ]
  },
  {
   "cell_type": "code",
   "execution_count": 24,
   "metadata": {},
   "outputs": [
    {
     "name": "stdout",
     "output_type": "stream",
     "text": [
      "Best model score: 0.8226727763480008\n",
      "Best model params: {'rfc__max_depth': 5, 'rfc__n_estimators': 1, 'sfs__estimator__max_depth': 5, 'sfs__estimator__n_estimators': 1, 'sfs__k_features': (2, 14)}\n"
     ]
    }
   ],
   "source": [
    "get_gs_info(gs_rf_sfs)"
   ]
  },
  {
   "cell_type": "code",
   "execution_count": 43,
   "metadata": {},
   "outputs": [],
   "source": [
    "knn_model = gs_knn_sfs.best_estimator_\n",
    "rf_model = gs_rf_sfs.best_estimator_\n",
    "svc_model = gs_svc_sfs.best_estimator_\n",
    "\n",
    "estimators=[('knn', knn_model), ('rf', rf_model), ('svc', svc_model)]\n",
    "#create our voting classifier, inputting our models\n",
    "ensemble = VotingClassifier(estimators, voting='hard')\n"
   ]
  },
  {
   "cell_type": "code",
   "execution_count": 44,
   "metadata": {},
   "outputs": [
    {
     "name": "stdout",
     "output_type": "stream",
     "text": [
      "CPU times: user 36 ms, sys: 5.06 ms, total: 41 ms\n",
      "Wall time: 1min 3s\n"
     ]
    },
    {
     "data": {
      "text/plain": [
       "array([0.81564246, 0.85393258, 0.80898876, 0.81460674, 0.85955056])"
      ]
     },
     "execution_count": 44,
     "metadata": {},
     "output_type": "execute_result"
    }
   ],
   "source": [
    "%%time\n",
    "ensamble_score = cross_val_score(ensemble,X_train,y_train,cv = cv_inner,n_jobs=-1)\n",
    "ensamble_score"
   ]
  },
  {
   "cell_type": "code",
   "execution_count": 38,
   "metadata": {},
   "outputs": [
    {
     "data": {
      "text/plain": [
       "VotingClassifier(estimators=[('knn',\n",
       "                              Pipeline(memory=None,\n",
       "                                       steps=[('pre_pros',\n",
       "                                               ColumnTransformer(n_jobs=None,\n",
       "                                                                 remainder='drop',\n",
       "                                                                 sparse_threshold=0.3,\n",
       "                                                                 transformer_weights=None,\n",
       "                                                                 transformers=[('cat',\n",
       "                                                                                Pipeline(memory=None,\n",
       "                                                                                         steps=[('imputer',\n",
       "                                                                                                 SimpleImputer(add_indicator=False,\n",
       "                                                                                                               copy=True,\n",
       "                                                                                                               fill_value=None,\n",
       "                                                                                                               missing_values=nan,\n",
       "                                                                                                               strategy='most_frequent',\n",
       "                                                                                                               verbose=0)),\n",
       "                                                                                                ('one...\n",
       "                                                                         scoring='neg_mean_absolute_error',\n",
       "                                                                         verbose=0)),\n",
       "                                              ('svc',\n",
       "                                               SVC(C=10, break_ties=False,\n",
       "                                                   cache_size=200,\n",
       "                                                   class_weight=None, coef0=0.0,\n",
       "                                                   decision_function_shape='ovr',\n",
       "                                                   degree=3, gamma=0.01,\n",
       "                                                   kernel='rbf', max_iter=-1,\n",
       "                                                   probability=False,\n",
       "                                                   random_state=None,\n",
       "                                                   shrinking=True, tol=0.001,\n",
       "                                                   verbose=False))],\n",
       "                                       verbose=False))],\n",
       "                 flatten_transform=True, n_jobs=None, voting='hard',\n",
       "                 weights=None)"
      ]
     },
     "execution_count": 38,
     "metadata": {},
     "output_type": "execute_result"
    }
   ],
   "source": [
    "%%time\n",
    "ensemble.fit(X_train,y_train)"
   ]
  },
  {
   "cell_type": "code",
   "execution_count": 35,
   "metadata": {},
   "outputs": [],
   "source": [
    "def submit(model,filename):\n",
    "    \"\"\"\n",
    "    \n",
    "    \"\"\"\n",
    "    X_test = read_data(\"../data/test.csv\")\n",
    "    predictions = model.predict(X_test)\n",
    "    submission = pd.DataFrame({'PassengerId':X_test.index,'Survived':predictions})\n",
    "    submission.to_csv(filename,index=False)\n",
    "    print('Saved file: ' + filename)\n",
    "    return"
   ]
  },
  {
   "cell_type": "code",
   "execution_count": 39,
   "metadata": {},
   "outputs": [
    {
     "name": "stdout",
     "output_type": "stream",
     "text": [
      "Saved file: ensamble_first.csv\n"
     ]
    }
   ],
   "source": [
    "submit(ensemble,'ensamble_first.csv')"
   ]
  }
 ],
 "metadata": {
  "kernelspec": {
   "display_name": "Python [conda env:kaggle_titanic]",
   "language": "python",
   "name": "conda-env-kaggle_titanic-py"
  },
  "language_info": {
   "codemirror_mode": {
    "name": "ipython",
    "version": 3
   },
   "file_extension": ".py",
   "mimetype": "text/x-python",
   "name": "python",
   "nbconvert_exporter": "python",
   "pygments_lexer": "ipython3",
   "version": "3.8.1"
  }
 },
 "nbformat": 4,
 "nbformat_minor": 4
}
